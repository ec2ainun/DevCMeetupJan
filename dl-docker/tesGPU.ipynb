{
 "cells": [
  {
   "cell_type": "code",
   "execution_count": 1,
   "metadata": {},
   "outputs": [
    {
     "name": "stdout",
     "output_type": "stream",
     "text": [
      "Extracting MNIST_data/train-images-idx3-ubyte.gz\n",
      "Extracting MNIST_data/train-labels-idx1-ubyte.gz\n",
      "Extracting MNIST_data/t10k-images-idx3-ubyte.gz\n",
      "Extracting MNIST_data/t10k-labels-idx1-ubyte.gz\n"
     ]
    }
   ],
   "source": [
    "import tensorflow as tf\n",
    "\n",
    "import datetime\n",
    "\n",
    "# Import MNIST data\n",
    "from tensorflow.examples.tutorials.mnist import input_data\n",
    "mnist = input_data.read_data_sets(\"MNIST_data/\", one_hot=True)"
   ]
  },
  {
   "cell_type": "code",
   "execution_count": 2,
   "metadata": {
    "collapsed": true
   },
   "outputs": [],
   "source": [
    "\n",
    "# Parameters\n",
    "learning_rate = 0.001\n",
    "training_iters = 2000000\n",
    "batch_size = 2048\n",
    "display_step = 10\n",
    "\n",
    "# Network Parameters\n",
    "n_input = 784 # MNIST data input (img shape: 28*28)\n",
    "n_classes = 10 # MNIST total classes (0-9 digits)\n",
    "dropout = 0.75 # Dropout, probability to keep units\n",
    "\n",
    "# tf Graph input\n",
    "x = tf.placeholder(tf.float32, [None, n_input])\n",
    "y = tf.placeholder(tf.float32, [None, n_classes])\n",
    "keep_prob = tf.placeholder(tf.float32) #dropout (keep probability)"
   ]
  },
  {
   "cell_type": "code",
   "execution_count": 3,
   "metadata": {
    "collapsed": true
   },
   "outputs": [],
   "source": [
    "# Create some wrappers for simplicity\n",
    "def conv2d(x, W, b, strides=1):\n",
    "    # Conv2D wrapper, with bias and relu activation\n",
    "    x = tf.nn.conv2d(x, W, strides=[1, strides, strides, 1], padding='SAME')\n",
    "    x = tf.nn.bias_add(x, b)\n",
    "    return tf.nn.relu(x)\n",
    "\n",
    "\n",
    "def maxpool2d(x, k=2):\n",
    "    # MaxPool2D wrapper\n",
    "    return tf.nn.max_pool(x, ksize=[1, k, k, 1], strides=[1, k, k, 1],\n",
    "                          padding='SAME')\n",
    "\n",
    "\n",
    "# Create model\n",
    "def conv_net(x, weights, biases, dropout):\n",
    "    # Reshape input picture\n",
    "    x = tf.reshape(x, shape=[-1, 28, 28, 1])\n",
    "\n",
    "    # Convolution Layer\n",
    "    conv1 = conv2d(x, weights['wc1'], biases['bc1'])\n",
    "    # Max Pooling (down-sampling)\n",
    "    conv1 = maxpool2d(conv1, k=2)\n",
    "\n",
    "    # Convolution Layer\n",
    "    conv2 = conv2d(conv1, weights['wc2'], biases['bc2'])\n",
    "    # Max Pooling (down-sampling)\n",
    "    conv2 = maxpool2d(conv2, k=2)\n",
    "\n",
    "    # Fully connected layer\n",
    "    # Reshape conv2 output to fit fully connected layer input\n",
    "    fc1 = tf.reshape(conv2, [-1, weights['wd1'].get_shape().as_list()[0]])\n",
    "    fc1 = tf.add(tf.matmul(fc1, weights['wd1']), biases['bd1'])\n",
    "    fc1 = tf.nn.relu(fc1)\n",
    "    # Apply Dropout\n",
    "    fc1 = tf.nn.dropout(fc1, dropout)\n",
    "\n",
    "    # Output, class prediction\n",
    "    out = tf.add(tf.matmul(fc1, weights['out']), biases['out'])\n",
    "    return out"
   ]
  },
  {
   "cell_type": "code",
   "execution_count": 4,
   "metadata": {
    "collapsed": true
   },
   "outputs": [],
   "source": [
    "# Store layers weight & bias\n",
    "weights = {\n",
    "    # 5x5 conv, 1 input, 32 outputs\n",
    "    'wc1': tf.Variable(tf.random_normal([5, 5, 1, 32])),\n",
    "    # 5x5 conv, 32 inputs, 64 outputs\n",
    "    'wc2': tf.Variable(tf.random_normal([5, 5, 32, 64])),\n",
    "    # fully connected, 7*7*64 inputs, 1024 outputs\n",
    "    'wd1': tf.Variable(tf.random_normal([7*7*64, 1024])),\n",
    "    # 1024 inputs, 10 outputs (class prediction)\n",
    "    'out': tf.Variable(tf.random_normal([1024, n_classes]))\n",
    "}\n",
    "\n",
    "biases = {\n",
    "    'bc1': tf.Variable(tf.random_normal([32])),\n",
    "    'bc2': tf.Variable(tf.random_normal([64])),\n",
    "    'bd1': tf.Variable(tf.random_normal([1024])),\n",
    "    'out': tf.Variable(tf.random_normal([n_classes]))\n",
    "}\n",
    "\n",
    "# Construct model\n",
    "pred = conv_net(x, weights, biases, keep_prob)\n",
    "\n",
    "# Define loss and optimizer\n",
    "cost = tf.reduce_mean(tf.nn.softmax_cross_entropy_with_logits(logits=pred, labels=y))\n",
    "optimizer = tf.train.AdamOptimizer(learning_rate=learning_rate).minimize(cost)\n",
    "\n",
    "# Evaluate model\n",
    "correct_pred = tf.equal(tf.argmax(pred, 1), tf.argmax(y, 1))\n",
    "accuracy = tf.reduce_mean(tf.cast(correct_pred, tf.float32))\n",
    "\n",
    "# Initializing the variables\n",
    "init = tf.global_variables_initializer()"
   ]
  },
  {
   "cell_type": "code",
   "execution_count": 5,
   "metadata": {
    "collapsed": true
   },
   "outputs": [],
   "source": [
    "t1_1 = datetime.datetime.now()"
   ]
  },
  {
   "cell_type": "code",
   "execution_count": 6,
   "metadata": {},
   "outputs": [
    {
     "name": "stdout",
     "output_type": "stream",
     "text": [
      "Iter 20480, Minibatch Loss= 16679.447266, Training Accuracy= 0.44238\n",
      "Iter 40960, Minibatch Loss= 6365.358887, Training Accuracy= 0.65039\n",
      "Iter 61440, Minibatch Loss= 4101.514648, Training Accuracy= 0.77295\n",
      "Iter 81920, Minibatch Loss= 3218.453613, Training Accuracy= 0.82275\n",
      "Iter 102400, Minibatch Loss= 2469.061523, Training Accuracy= 0.85645\n",
      "Iter 122880, Minibatch Loss= 1934.672852, Training Accuracy= 0.88623\n",
      "Iter 143360, Minibatch Loss= 2035.046021, Training Accuracy= 0.89404\n",
      "Iter 163840, Minibatch Loss= 1599.539429, Training Accuracy= 0.90527\n",
      "Iter 184320, Minibatch Loss= 1500.231079, Training Accuracy= 0.91211\n",
      "Iter 204800, Minibatch Loss= 1460.907837, Training Accuracy= 0.91309\n",
      "Iter 225280, Minibatch Loss= 1153.050049, Training Accuracy= 0.92871\n",
      "Iter 245760, Minibatch Loss= 1299.253662, Training Accuracy= 0.92627\n",
      "Iter 266240, Minibatch Loss= 1048.629028, Training Accuracy= 0.93750\n",
      "Iter 286720, Minibatch Loss= 1140.755615, Training Accuracy= 0.92676\n",
      "Iter 307200, Minibatch Loss= 1011.282776, Training Accuracy= 0.93408\n",
      "Iter 327680, Minibatch Loss= 794.651367, Training Accuracy= 0.94580\n",
      "Iter 348160, Minibatch Loss= 754.160950, Training Accuracy= 0.94678\n",
      "Iter 368640, Minibatch Loss= 719.474487, Training Accuracy= 0.94336\n",
      "Iter 389120, Minibatch Loss= 718.638062, Training Accuracy= 0.94824\n",
      "Iter 409600, Minibatch Loss= 639.385315, Training Accuracy= 0.95166\n",
      "Iter 430080, Minibatch Loss= 643.995422, Training Accuracy= 0.95312\n",
      "Iter 450560, Minibatch Loss= 806.141479, Training Accuracy= 0.94434\n",
      "Iter 471040, Minibatch Loss= 536.761047, Training Accuracy= 0.95801\n",
      "Iter 491520, Minibatch Loss= 501.131866, Training Accuracy= 0.95508\n",
      "Iter 512000, Minibatch Loss= 572.139648, Training Accuracy= 0.95508\n",
      "Iter 532480, Minibatch Loss= 401.601227, Training Accuracy= 0.96338\n",
      "Iter 552960, Minibatch Loss= 420.654663, Training Accuracy= 0.96143\n",
      "Iter 573440, Minibatch Loss= 398.228638, Training Accuracy= 0.96094\n",
      "Iter 593920, Minibatch Loss= 486.202698, Training Accuracy= 0.95605\n",
      "Iter 614400, Minibatch Loss= 423.703430, Training Accuracy= 0.95898\n",
      "Iter 634880, Minibatch Loss= 382.864838, Training Accuracy= 0.95898\n",
      "Iter 655360, Minibatch Loss= 292.610962, Training Accuracy= 0.96777\n",
      "Iter 675840, Minibatch Loss= 320.084717, Training Accuracy= 0.96143\n",
      "Iter 696320, Minibatch Loss= 416.880920, Training Accuracy= 0.96387\n",
      "Iter 716800, Minibatch Loss= 292.242432, Training Accuracy= 0.96680\n",
      "Iter 737280, Minibatch Loss= 388.461914, Training Accuracy= 0.96387\n",
      "Iter 757760, Minibatch Loss= 300.007599, Training Accuracy= 0.97119\n",
      "Iter 778240, Minibatch Loss= 309.857849, Training Accuracy= 0.96729\n",
      "Iter 798720, Minibatch Loss= 308.177124, Training Accuracy= 0.97266\n",
      "Iter 819200, Minibatch Loss= 213.437256, Training Accuracy= 0.97900\n",
      "Iter 839680, Minibatch Loss= 221.871292, Training Accuracy= 0.97705\n",
      "Iter 860160, Minibatch Loss= 274.402252, Training Accuracy= 0.96875\n",
      "Iter 880640, Minibatch Loss= 262.181183, Training Accuracy= 0.97266\n",
      "Iter 901120, Minibatch Loss= 221.219360, Training Accuracy= 0.96875\n",
      "Iter 921600, Minibatch Loss= 178.025085, Training Accuracy= 0.97559\n",
      "Iter 942080, Minibatch Loss= 243.137955, Training Accuracy= 0.96875\n",
      "Iter 962560, Minibatch Loss= 202.065430, Training Accuracy= 0.97266\n",
      "Iter 983040, Minibatch Loss= 255.822037, Training Accuracy= 0.97363\n",
      "Iter 1003520, Minibatch Loss= 185.186768, Training Accuracy= 0.97998\n",
      "Iter 1024000, Minibatch Loss= 170.458313, Training Accuracy= 0.97461\n",
      "Iter 1044480, Minibatch Loss= 209.614487, Training Accuracy= 0.97607\n",
      "Iter 1064960, Minibatch Loss= 153.219742, Training Accuracy= 0.97314\n",
      "Iter 1085440, Minibatch Loss= 141.510864, Training Accuracy= 0.97803\n",
      "Iter 1105920, Minibatch Loss= 112.400070, Training Accuracy= 0.98242\n",
      "Iter 1126400, Minibatch Loss= 130.686707, Training Accuracy= 0.97754\n",
      "Iter 1146880, Minibatch Loss= 146.660645, Training Accuracy= 0.97607\n",
      "Iter 1167360, Minibatch Loss= 141.170090, Training Accuracy= 0.98145\n",
      "Iter 1187840, Minibatch Loss= 171.615616, Training Accuracy= 0.98438\n",
      "Iter 1208320, Minibatch Loss= 119.249496, Training Accuracy= 0.97852\n",
      "Iter 1228800, Minibatch Loss= 156.445633, Training Accuracy= 0.97852\n",
      "Iter 1249280, Minibatch Loss= 171.726318, Training Accuracy= 0.97852\n",
      "Iter 1269760, Minibatch Loss= 107.862228, Training Accuracy= 0.98486\n",
      "Iter 1290240, Minibatch Loss= 113.892929, Training Accuracy= 0.98193\n",
      "Iter 1310720, Minibatch Loss= 95.867249, Training Accuracy= 0.98584\n",
      "Iter 1331200, Minibatch Loss= 134.135895, Training Accuracy= 0.98145\n",
      "Iter 1351680, Minibatch Loss= 127.880280, Training Accuracy= 0.98389\n",
      "Iter 1372160, Minibatch Loss= 87.216248, Training Accuracy= 0.98193\n",
      "Iter 1392640, Minibatch Loss= 106.979591, Training Accuracy= 0.98486\n",
      "Iter 1413120, Minibatch Loss= 71.303894, Training Accuracy= 0.98779\n",
      "Iter 1433600, Minibatch Loss= 87.683426, Training Accuracy= 0.98584\n",
      "Iter 1454080, Minibatch Loss= 58.495045, Training Accuracy= 0.98828\n",
      "Iter 1474560, Minibatch Loss= 65.170212, Training Accuracy= 0.98779\n",
      "Iter 1495040, Minibatch Loss= 48.946884, Training Accuracy= 0.98975\n",
      "Iter 1515520, Minibatch Loss= 74.378593, Training Accuracy= 0.98730\n",
      "Iter 1536000, Minibatch Loss= 52.067642, Training Accuracy= 0.98682\n",
      "Iter 1556480, Minibatch Loss= 63.350624, Training Accuracy= 0.98682\n",
      "Iter 1576960, Minibatch Loss= 99.590973, Training Accuracy= 0.98193\n",
      "Iter 1597440, Minibatch Loss= 98.640022, Training Accuracy= 0.98584\n",
      "Iter 1617920, Minibatch Loss= 36.350006, Training Accuracy= 0.98877\n",
      "Iter 1638400, Minibatch Loss= 89.235443, Training Accuracy= 0.98633\n",
      "Iter 1658880, Minibatch Loss= 62.865410, Training Accuracy= 0.98975\n",
      "Iter 1679360, Minibatch Loss= 43.036728, Training Accuracy= 0.98877\n",
      "Iter 1699840, Minibatch Loss= 65.204643, Training Accuracy= 0.98682\n",
      "Iter 1720320, Minibatch Loss= 54.736702, Training Accuracy= 0.99072\n",
      "Iter 1740800, Minibatch Loss= 47.822952, Training Accuracy= 0.98877\n",
      "Iter 1761280, Minibatch Loss= 54.246765, Training Accuracy= 0.98926\n",
      "Iter 1781760, Minibatch Loss= 36.221233, Training Accuracy= 0.98926\n",
      "Iter 1802240, Minibatch Loss= 43.756592, Training Accuracy= 0.98926\n",
      "Iter 1822720, Minibatch Loss= 50.936352, Training Accuracy= 0.99023\n",
      "Iter 1843200, Minibatch Loss= 46.237328, Training Accuracy= 0.98975\n",
      "Iter 1863680, Minibatch Loss= 56.176273, Training Accuracy= 0.99072\n",
      "Iter 1884160, Minibatch Loss= 75.974655, Training Accuracy= 0.98730\n",
      "Iter 1904640, Minibatch Loss= 40.822121, Training Accuracy= 0.99072\n",
      "Iter 1925120, Minibatch Loss= 78.619797, Training Accuracy= 0.98682\n",
      "Iter 1945600, Minibatch Loss= 30.592001, Training Accuracy= 0.99023\n",
      "Iter 1966080, Minibatch Loss= 43.196938, Training Accuracy= 0.99072\n",
      "Iter 1986560, Minibatch Loss= 48.443226, Training Accuracy= 0.98828\n",
      "Optimization Finished!\n",
      "Testing Accuracy: 0.992188\n"
     ]
    }
   ],
   "source": [
    "# Launch the graph\n",
    "with tf.Session() as sess:\n",
    "    sess.run(init)\n",
    "    step = 1\n",
    "    # Keep training until reach max iterations\n",
    "    while step * batch_size < training_iters:\n",
    "        batch_x, batch_y = mnist.train.next_batch(batch_size)\n",
    "        # Run optimization op (backprop)\n",
    "        sess.run(optimizer, feed_dict={x: batch_x, y: batch_y,\n",
    "                                       keep_prob: dropout})\n",
    "        if step % display_step == 0:\n",
    "            # Calculate batch loss and accuracy\n",
    "            loss, acc = sess.run([cost, accuracy], feed_dict={x: batch_x,\n",
    "                                                              y: batch_y,\n",
    "                                                              keep_prob: 1.})\n",
    "            print(\"Iter \" + str(step*batch_size) + \", Minibatch Loss= \" + \\\n",
    "                  \"{:.6f}\".format(loss) + \", Training Accuracy= \" + \\\n",
    "                  \"{:.5f}\".format(acc))\n",
    "        step += 1\n",
    "    print(\"Optimization Finished!\")\n",
    "\n",
    "    # Calculate accuracy for 256 mnist test images\n",
    "    print(\"Testing Accuracy:\", \\\n",
    "        sess.run(accuracy, feed_dict={x: mnist.test.images[:256],\n",
    "                                      y: mnist.test.labels[:256],\n",
    "                                      keep_prob: 1.}))\n",
    "t2_1 = datetime.datetime.now()"
   ]
  },
  {
   "cell_type": "code",
   "execution_count": 7,
   "metadata": {},
   "outputs": [
    {
     "name": "stdout",
     "output_type": "stream",
     "text": [
      "waktu: 0:02:27.320812\n"
     ]
    }
   ],
   "source": [
    "print(\"waktu: \" + str(t2_1-t1_1))"
   ]
  },
  {
   "cell_type": "code",
   "execution_count": null,
   "metadata": {
    "collapsed": true
   },
   "outputs": [],
   "source": []
  }
 ],
 "metadata": {
  "kernelspec": {
   "display_name": "Python 3",
   "language": "python",
   "name": "python3"
  },
  "language_info": {
   "codemirror_mode": {
    "name": "ipython",
    "version": 3
   },
   "file_extension": ".py",
   "mimetype": "text/x-python",
   "name": "python",
   "nbconvert_exporter": "python",
   "pygments_lexer": "ipython3",
   "version": "3.5.2"
  }
 },
 "nbformat": 4,
 "nbformat_minor": 2
}
